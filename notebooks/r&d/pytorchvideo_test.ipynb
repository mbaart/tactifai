{
 "cells": [
  {
   "cell_type": "markdown",
   "metadata": {},
   "source": [
    "https://pytorch.org/get-started/locally/"
   ]
  },
  {
   "cell_type": "code",
   "execution_count": 1,
   "metadata": {},
   "outputs": [
    {
     "name": "stdout",
     "output_type": "stream",
     "text": [
      "tensor([[0.5734, 0.3104, 0.5705],\n",
      "        [0.1014, 0.2783, 0.8442],\n",
      "        [0.0967, 0.1820, 0.4524],\n",
      "        [0.0134, 0.8726, 0.7404],\n",
      "        [0.6939, 0.1714, 0.0304]])\n"
     ]
    }
   ],
   "source": [
    "import torch\n",
    "x = torch.rand(5, 3)\n",
    "print(x)"
   ]
  },
  {
   "cell_type": "code",
   "execution_count": 12,
   "metadata": {},
   "outputs": [
    {
     "name": "stdout",
     "output_type": "stream",
     "text": [
      "Cuda availability is True, using: cuda\n"
     ]
    }
   ],
   "source": [
    "available = torch.cuda.is_available()\n",
    "torch.device = 'cuda' if available else 'cpu'\n",
    "print(f'Cuda availability is {available}, using: {torch.device}')"
   ]
  }
 ],
 "metadata": {
  "kernelspec": {
   "display_name": ".venv-torch251",
   "language": "python",
   "name": "python3"
  },
  "language_info": {
   "codemirror_mode": {
    "name": "ipython",
    "version": 3
   },
   "file_extension": ".py",
   "mimetype": "text/x-python",
   "name": "python",
   "nbconvert_exporter": "python",
   "pygments_lexer": "ipython3",
   "version": "3.12.8"
  }
 },
 "nbformat": 4,
 "nbformat_minor": 2
}
